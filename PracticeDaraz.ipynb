{
 "cells": [
  {
   "cell_type": "code",
   "execution_count": 1,
   "id": "2271cca8",
   "metadata": {},
   "outputs": [],
   "source": [
    "from selenium import webdriver\n",
    "from selenium.webdriver.chrome.service import Service\n",
    "from selenium.webdriver.chrome.options import Options\n",
    "from webdriver_manager.chrome import ChromeDriverManager\n",
    "from selenium.webdriver.common.by import By\n",
    "import time"
   ]
  },
  {
   "cell_type": "code",
   "execution_count": 2,
   "id": "e3f7f34b",
   "metadata": {},
   "outputs": [],
   "source": [
    "driver = webdriver.Chrome(service=Service(ChromeDriverManager().install()))"
   ]
  },
  {
   "cell_type": "code",
   "execution_count": 3,
   "id": "f7239511",
   "metadata": {},
   "outputs": [],
   "source": [
    "driver.get(\"https://www.daraz.com.bd/womens-clothing/?spm=a2a0e.home.cate_1.1.195612f7YSy7nw\")"
   ]
  },
  {
   "cell_type": "code",
   "execution_count": 4,
   "id": "661b7d4d",
   "metadata": {},
   "outputs": [],
   "source": [
    "title_list = []\n",
    "dicts = {}\n",
    "price_list = []\n",
    "original_price_list = []"
   ]
  },
  {
   "cell_type": "code",
   "execution_count": 5,
   "id": "18789739",
   "metadata": {},
   "outputs": [],
   "source": [
    "for i in range(1,22):\n",
    "    # x = str(i)\n",
    "    title = driver.find_element(by=By.XPATH, value='//*[@id=\"root\"]/div/div[3]/div[1]/div/div[1]/div[2]/div['+str(i)+']/div/div/div[2]/div[2]/a')\n",
    "    title_list.append(title.text)"
   ]
  },
  {
   "cell_type": "code",
   "execution_count": 6,
   "id": "69f02dc9",
   "metadata": {},
   "outputs": [],
   "source": [
    "for i in range(1,22):\n",
    "    # x = str(i)\n",
    "    price = driver.find_element(by=By.XPATH, value='//*[@id=\"root\"]/div/div[3]/div[1]/div/div[1]/div[2]/div['+str(i)+']/div/div/div[2]/div[3]/span')\n",
    "    price_list.append(price.text)\n"
   ]
  },
  {
   "cell_type": "code",
   "execution_count": 7,
   "id": "143fd169",
   "metadata": {},
   "outputs": [],
   "source": [
    "for i in range(1,22):\n",
    "    original_price = driver.find_element(by=By.XPATH, value='//*[@id=\"root\"]/div/div[3]/div[1]/div/div[1]/div[2]/div['+str(i)+']/div/div/div[2]/div[4]/span[1]/del')\n",
    "    original_price_list.append(original_price.text)"
   ]
  },
  {
   "cell_type": "code",
   "execution_count": 8,
   "id": "a30d8d1c",
   "metadata": {},
   "outputs": [],
   "source": [
    "final_dicts = (list(zip(title_list,price_list,original_price_list)))\n"
   ]
  },
  {
   "cell_type": "code",
   "execution_count": 9,
   "id": "f2b4f615",
   "metadata": {},
   "outputs": [],
   "source": [
    "import pandas as pd"
   ]
  },
  {
   "cell_type": "code",
   "execution_count": 10,
   "id": "27a5b5fd",
   "metadata": {},
   "outputs": [
    {
     "name": "stdout",
     "output_type": "stream",
     "text": [
      "                                                    0      1        2\n",
      "0                             Fringe Poncho for Women  ৳ 620    ৳ 750\n",
      "1       Fashionable Elegant Winter Sweaters for Women  ৳ 240    ৳ 900\n",
      "2        Women Maroon Solid Hooded Sweaters Free Size  ৳ 874  ৳ 2,750\n",
      "3   Ladies Winter Dress Solid Color Long Sleeve Sw...  ৳ 499    ৳ 800\n",
      "4     Top Ladies Winter Jacket For Women iCon MarT BD  ৳ 399    ৳ 700\n",
      "5   Ladies Winter Long Sleeve Open Cardian Sweater...  ৳ 760  ৳ 1,060\n",
      "6   Exclusive Hand Knit Fashionable Stylish and Co...  ৳ 475    ৳ 950\n",
      "7   Women Black & Grey Front Open Short Cardigans ...  ৳ 700  ৳ 1,950\n",
      "8   Kaftan Fashionable One Piece For Women Comfort...  ৳ 449    ৳ 750\n",
      "9   Women Black & Grey Front Open Nungor Design Sw...  ৳ 950  ৳ 2,500\n",
      "10  Women Black and Grey Front Open Nungor Design ...  ৳ 940  ৳ 3,600\n",
      "11   Women Maroon Solid Hooded Sweaters ( Free Size )  ৳ 880  ৳ 2,500\n",
      "12                  Women’s High neck sweater (black)  ৳ 252    ৳ 444\n",
      "13                  Women’s High neck sweater (black)  ৳ 252    ৳ 444\n",
      "14  Stitched Lilen exclusive designed, Fashionable...  ৳ 475    ৳ 700\n",
      "15  Maroon Jacquard Fashion Design Front-Open Swea...  ৳ 890  ৳ 1,900\n",
      "16       Maroon Longline Front-Open Sweater for Women  ৳ 900  ৳ 2,100\n",
      "17  New (1pis) Cotton Kaftan Premium Quality style...  ৳ 640  ৳ 1,000\n",
      "18  Women's Classic Mid Length Long Sleeve Open Fr...  ৳ 375    ৳ 450\n",
      "19  Exclusive Hand Knit Fashionable Stylish and Co...  ৳ 475    ৳ 850\n",
      "20  Ladies Winter Long Sleeve Open Cardian Sweater...  ৳ 765  ৳ 1,050\n"
     ]
    }
   ],
   "source": [
    "df = pd.DataFrame(final_dicts)\n",
    "print(df)"
   ]
  },
  {
   "cell_type": "code",
   "execution_count": 11,
   "id": "31ec8969",
   "metadata": {},
   "outputs": [],
   "source": [
    "Header_list = ['Product Name','Price','Original Price']"
   ]
  },
  {
   "cell_type": "code",
   "execution_count": 12,
   "id": "803e64f6",
   "metadata": {},
   "outputs": [
    {
     "ename": "PermissionError",
     "evalue": "[Errno 13] Permission denied: 'Daraz.csv'",
     "output_type": "error",
     "traceback": [
      "\u001b[1;31m---------------------------------------------------------------------------\u001b[0m",
      "\u001b[1;31mPermissionError\u001b[0m                           Traceback (most recent call last)",
      "\u001b[1;32m<ipython-input-12-e75c184016e8>\u001b[0m in \u001b[0;36m<module>\u001b[1;34m\u001b[0m\n\u001b[1;32m----> 1\u001b[1;33m \u001b[0mdf\u001b[0m\u001b[1;33m.\u001b[0m\u001b[0mto_csv\u001b[0m\u001b[1;33m(\u001b[0m\u001b[1;34m'Daraz.csv'\u001b[0m\u001b[1;33m,\u001b[0m\u001b[0mindex\u001b[0m\u001b[1;33m=\u001b[0m\u001b[1;32mFalse\u001b[0m\u001b[1;33m,\u001b[0m\u001b[0mheader\u001b[0m\u001b[1;33m=\u001b[0m\u001b[0mHeader_list\u001b[0m\u001b[1;33m)\u001b[0m\u001b[1;33m\u001b[0m\u001b[1;33m\u001b[0m\u001b[0m\n\u001b[0m",
      "\u001b[1;32m~\\anaconda3\\lib\\site-packages\\pandas\\core\\generic.py\u001b[0m in \u001b[0;36mto_csv\u001b[1;34m(self, path_or_buf, sep, na_rep, float_format, columns, header, index, index_label, mode, encoding, compression, quoting, quotechar, line_terminator, chunksize, date_format, doublequote, escapechar, decimal, errors, storage_options)\u001b[0m\n\u001b[0;32m   3385\u001b[0m         )\n\u001b[0;32m   3386\u001b[0m \u001b[1;33m\u001b[0m\u001b[0m\n\u001b[1;32m-> 3387\u001b[1;33m         return DataFrameRenderer(formatter).to_csv(\n\u001b[0m\u001b[0;32m   3388\u001b[0m             \u001b[0mpath_or_buf\u001b[0m\u001b[1;33m,\u001b[0m\u001b[1;33m\u001b[0m\u001b[1;33m\u001b[0m\u001b[0m\n\u001b[0;32m   3389\u001b[0m             \u001b[0mline_terminator\u001b[0m\u001b[1;33m=\u001b[0m\u001b[0mline_terminator\u001b[0m\u001b[1;33m,\u001b[0m\u001b[1;33m\u001b[0m\u001b[1;33m\u001b[0m\u001b[0m\n",
      "\u001b[1;32m~\\anaconda3\\lib\\site-packages\\pandas\\io\\formats\\format.py\u001b[0m in \u001b[0;36mto_csv\u001b[1;34m(self, path_or_buf, encoding, sep, columns, index_label, mode, compression, quoting, quotechar, line_terminator, chunksize, date_format, doublequote, escapechar, errors, storage_options)\u001b[0m\n\u001b[0;32m   1081\u001b[0m             \u001b[0mformatter\u001b[0m\u001b[1;33m=\u001b[0m\u001b[0mself\u001b[0m\u001b[1;33m.\u001b[0m\u001b[0mfmt\u001b[0m\u001b[1;33m,\u001b[0m\u001b[1;33m\u001b[0m\u001b[1;33m\u001b[0m\u001b[0m\n\u001b[0;32m   1082\u001b[0m         )\n\u001b[1;32m-> 1083\u001b[1;33m         \u001b[0mcsv_formatter\u001b[0m\u001b[1;33m.\u001b[0m\u001b[0msave\u001b[0m\u001b[1;33m(\u001b[0m\u001b[1;33m)\u001b[0m\u001b[1;33m\u001b[0m\u001b[1;33m\u001b[0m\u001b[0m\n\u001b[0m\u001b[0;32m   1084\u001b[0m \u001b[1;33m\u001b[0m\u001b[0m\n\u001b[0;32m   1085\u001b[0m         \u001b[1;32mif\u001b[0m \u001b[0mcreated_buffer\u001b[0m\u001b[1;33m:\u001b[0m\u001b[1;33m\u001b[0m\u001b[1;33m\u001b[0m\u001b[0m\n",
      "\u001b[1;32m~\\anaconda3\\lib\\site-packages\\pandas\\io\\formats\\csvs.py\u001b[0m in \u001b[0;36msave\u001b[1;34m(self)\u001b[0m\n\u001b[0;32m    226\u001b[0m         \"\"\"\n\u001b[0;32m    227\u001b[0m         \u001b[1;31m# apply compression and byte/text conversion\u001b[0m\u001b[1;33m\u001b[0m\u001b[1;33m\u001b[0m\u001b[1;33m\u001b[0m\u001b[0m\n\u001b[1;32m--> 228\u001b[1;33m         with get_handle(\n\u001b[0m\u001b[0;32m    229\u001b[0m             \u001b[0mself\u001b[0m\u001b[1;33m.\u001b[0m\u001b[0mfilepath_or_buffer\u001b[0m\u001b[1;33m,\u001b[0m\u001b[1;33m\u001b[0m\u001b[1;33m\u001b[0m\u001b[0m\n\u001b[0;32m    230\u001b[0m             \u001b[0mself\u001b[0m\u001b[1;33m.\u001b[0m\u001b[0mmode\u001b[0m\u001b[1;33m,\u001b[0m\u001b[1;33m\u001b[0m\u001b[1;33m\u001b[0m\u001b[0m\n",
      "\u001b[1;32m~\\anaconda3\\lib\\site-packages\\pandas\\io\\common.py\u001b[0m in \u001b[0;36mget_handle\u001b[1;34m(path_or_buf, mode, encoding, compression, memory_map, is_text, errors, storage_options)\u001b[0m\n\u001b[0;32m    640\u001b[0m                 \u001b[0merrors\u001b[0m \u001b[1;33m=\u001b[0m \u001b[1;34m\"replace\"\u001b[0m\u001b[1;33m\u001b[0m\u001b[1;33m\u001b[0m\u001b[0m\n\u001b[0;32m    641\u001b[0m             \u001b[1;31m# Encoding\u001b[0m\u001b[1;33m\u001b[0m\u001b[1;33m\u001b[0m\u001b[1;33m\u001b[0m\u001b[0m\n\u001b[1;32m--> 642\u001b[1;33m             handle = open(\n\u001b[0m\u001b[0;32m    643\u001b[0m                 \u001b[0mhandle\u001b[0m\u001b[1;33m,\u001b[0m\u001b[1;33m\u001b[0m\u001b[1;33m\u001b[0m\u001b[0m\n\u001b[0;32m    644\u001b[0m                 \u001b[0mioargs\u001b[0m\u001b[1;33m.\u001b[0m\u001b[0mmode\u001b[0m\u001b[1;33m,\u001b[0m\u001b[1;33m\u001b[0m\u001b[1;33m\u001b[0m\u001b[0m\n",
      "\u001b[1;31mPermissionError\u001b[0m: [Errno 13] Permission denied: 'Daraz.csv'"
     ]
    }
   ],
   "source": [
    "df.to_csv('Daraz.csv',index=False,header=Header_list)"
   ]
  },
  {
   "cell_type": "code",
   "execution_count": null,
   "id": "d95709e9",
   "metadata": {},
   "outputs": [],
   "source": [
    "print(df)"
   ]
  },
  {
   "cell_type": "code",
   "execution_count": null,
   "id": "5b61ea37",
   "metadata": {},
   "outputs": [],
   "source": [
    "time.sleep(100)"
   ]
  }
 ],
 "metadata": {
  "kernelspec": {
   "display_name": "Python 3",
   "language": "python",
   "name": "python3"
  },
  "language_info": {
   "codemirror_mode": {
    "name": "ipython",
    "version": 3
   },
   "file_extension": ".py",
   "mimetype": "text/x-python",
   "name": "python",
   "nbconvert_exporter": "python",
   "pygments_lexer": "ipython3",
   "version": "3.8.8"
  }
 },
 "nbformat": 4,
 "nbformat_minor": 5
}
